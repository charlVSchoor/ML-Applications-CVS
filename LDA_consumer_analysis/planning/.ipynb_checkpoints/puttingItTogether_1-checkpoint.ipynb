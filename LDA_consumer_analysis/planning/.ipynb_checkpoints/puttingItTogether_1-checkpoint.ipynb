{
 "cells": [
  {
   "cell_type": "markdown",
   "metadata": {},
   "source": [
    "## Objective\n",
    "+ Find topics probabilities, $P_i(x^T_1)$, per consumer\n",
    "+ Use consumer demographics denoted as $D_i$ and topic probabilities to predict hedonic using gift, $G \\in \\{TRUE, FALSE\\}$, where giving a gift proxies for being utilierian and not giving a gift proxies for hedonic.\n",
    "+ We ultimately want the probability of consumer $i$ buying a gift denoted as $P_i(G)$, calculated as\n",
    "$$P_i(G|P_i(x^T_1))$$\n",
    "+ Test \n",
    "\n",
    "  <img src=\"ConfusionMetrics.png\" alt=\"https://en.wikipedia.org/wiki/Precision_and_recall\">\n",
    "\n",
    "### Methodology\n",
    "+ Design choice: average products bought per period \n",
    "+ Design choice: bootstrap sample on the misaligned count of people giving gifts and people not giving gifts with \n",
    "\n",
    "### Concepts\n",
    "+ Consumers - $consumer_i \\ldots i \\in \\{1:C\\}$\n",
    "+ Product - $product_j \\ldots j \\in \\{1:J\\}$\n",
    "+ Topics - $topic_k \\ldots k \\in \\{1:T\\}$\n",
    "+ Consumer Demographics - $D_i \\ldots D \\in \\{1:D\\}$\n",
    "+ Average Times Products Bought per Period per Consumers: $\\mu_{product} = [x^J_1]$\n",
    "+ Probability of each topic per product per person \n",
    "+ Unit Scaling - Normilisation \n",
    "+ We want the topic probabilities of person $i$ $P_i(x^T_1)$\n",
    "\n",
    "### Model to obtain prediction\n",
    "+ Logistic Regression \n",
    "+ Decision Tree\n",
    "+ Random Forest\n",
    "+ SVM\n",
    "+ Neural Net"
   ]
  },
  {
   "cell_type": "markdown",
   "metadata": {},
   "source": [
    "## Importing Data\n",
    "+ Data preparation of t\n",
    "+ Import from 2013 to 2016 (only started using EXPNYR, EXPNMO columns from 2012, and from 2013 was changed in 2013) and we need this to calculate Consumer Product Propensity (CPP) define as:\n",
    "\n",
    "\n",
    "$$CCP = \\left[ {\\begin{array}{*{20}{c}}\n",
    "{NEWID}&{product}&n\\\\\n",
    "{{\\rm{1292531}}}&{{\\rm{10120}}}&{1.0}\\\\\n",
    "{{\\rm{1292531}}}&{{\\rm{20110}}}&{1.5}\\\\\n",
    " \\vdots & \\vdots & \\vdots \n",
    "\\end{array}} \\right]$$\n",
    "\n",
    "```R\n",
    "tidy_expd = expd_df %>%\n",
    "    filter(GIFT != \"C\") %>%\n",
    "    mutate(GIFT = if_else(GIFT == \"1\", 1, 0)) %>%\n",
    "    mutate(TIMESTAMP = paste0(EXPNYR, EXPNMO))\n",
    "\n",
    "CPP = tidy_expd %>% \n",
    "  count(NEWID, UCC, TIMESTAMP) %>%\n",
    "  ungroup() %>%\n",
    "  group_by(NEWID, UCC) %>%\n",
    "  summarise(n = mean(n)) %>%\n",
    "  ungroup() %>%\n",
    "  rename(product=UCC) %>%\n",
    "  mutate(product = as.factor(as.character(product)))\n",
    "```\n",
    "\n",
    "where $n$ is the average times per time interval (year-month) a customer bought a product. "
   ]
  },
  {
   "cell_type": "markdown",
   "metadata": {
    "heading_collapsed": true
   },
   "source": [
    "## Data Exploration and Data Cleaning"
   ]
  },
  {
   "cell_type": "markdown",
   "metadata": {},
   "source": [
    "## Baseline Modeling\n"
   ]
  },
  {
   "cell_type": "markdown",
   "metadata": {},
   "source": [
    "## Secondary Modeling\n"
   ]
  },
  {
   "cell_type": "markdown",
   "metadata": {},
   "source": [
    "## Communicating Results\n"
   ]
  },
  {
   "cell_type": "markdown",
   "metadata": {},
   "source": [
    "## Conclusion\n"
   ]
  },
  {
   "cell_type": "markdown",
   "metadata": {},
   "source": [
    "## Resources"
   ]
  }
 ],
 "metadata": {
  "kernelspec": {
   "display_name": "R",
   "language": "R",
   "name": "ir"
  },
  "language_info": {
   "codemirror_mode": "r",
   "file_extension": ".r",
   "mimetype": "text/x-r-source",
   "name": "R",
   "pygments_lexer": "r",
   "version": "3.3.3"
  },
  "latex_envs": {
   "LaTeX_envs_menu_present": true,
   "autoclose": false,
   "autocomplete": true,
   "bibliofile": "biblio.bib",
   "cite_by": "apalike",
   "current_citInitial": 1,
   "eqLabelWithNumbers": true,
   "eqNumInitial": 1,
   "hotkeys": {
    "equation": "Ctrl-E",
    "itemize": "Ctrl-I"
   },
   "labels_anchors": false,
   "latex_user_defs": false,
   "report_style_numbering": false,
   "user_envs_cfg": false
  },
  "toc": {
   "nav_menu": {},
   "number_sections": true,
   "sideBar": false,
   "skip_h1_title": false,
   "title_cell": "Table of Contents",
   "title_sidebar": "Contents",
   "toc_cell": false,
   "toc_position": {
    "height": "535px",
    "left": "26.636028289794922px",
    "top": "170.99264526367188px",
    "width": "165px"
   },
   "toc_section_display": true,
   "toc_window_display": true
  },
  "varInspector": {
   "cols": {
    "lenName": 16,
    "lenType": 16,
    "lenVar": 40
   },
   "kernels_config": {
    "python": {
     "delete_cmd_postfix": "",
     "delete_cmd_prefix": "del ",
     "library": "var_list.py",
     "varRefreshCmd": "print(var_dic_list())"
    },
    "r": {
     "delete_cmd_postfix": ") ",
     "delete_cmd_prefix": "rm(",
     "library": "var_list.r",
     "varRefreshCmd": "cat(var_dic_list()) "
    }
   },
   "types_to_exclude": [
    "module",
    "function",
    "builtin_function_or_method",
    "instance",
    "_Feature"
   ],
   "window_display": false
  }
 },
 "nbformat": 4,
 "nbformat_minor": 2
}
