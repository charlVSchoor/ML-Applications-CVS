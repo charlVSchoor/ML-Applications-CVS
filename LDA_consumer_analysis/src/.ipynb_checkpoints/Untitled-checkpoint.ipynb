{
 "cells": [
  {
   "cell_type": "markdown",
   "metadata": {
    "toc": true
   },
   "source": [
    "<h1>Table of Contents<span class=\"tocSkip\"></span></h1>\n",
    "<div class=\"toc\"><ul class=\"toc-item\"></ul></div>"
   ]
  },
  {
   "cell_type": "code",
   "execution_count": 3,
   "metadata": {
    "ExecuteTime": {
     "end_time": "2018-02-13T18:11:24.450105Z",
     "start_time": "2018-02-13T18:11:24.425662Z"
    }
   },
   "outputs": [],
   "source": [
    "from keras.models import Sequential\n",
    "from keras.layers.core import Dropout\n",
    "from keras.layers import Dense, BatchNormalization\n",
    "from keras.utils import to_categorical\n",
    "from keras.callbacks import TensorBoard\n",
    "from keras.optimizers import Adam\n",
    "from keras import optimizers\n",
    "from sklearn.preprocessing import LabelEncoder\n",
    "\n",
    "import numpy as np\n",
    "import pandas as pd\n",
    "import csv\n",
    "\n",
    "from numpy.random import seed\n",
    "seed(1)\n",
    "\n",
    "import time\n",
    "from time import gmtime, strftime\n",
    "\n",
    "from os import walk\n",
    "\n",
    "from keras import optimizers"
   ]
  },
  {
   "cell_type": "code",
   "execution_count": 25,
   "metadata": {
    "ExecuteTime": {
     "end_time": "2018-02-13T18:15:25.763475Z",
     "start_time": "2018-02-13T18:15:25.709227Z"
    }
   },
   "outputs": [
    {
     "name": "stdout",
     "output_type": "stream",
     "text": [
      "Started @ 2018-02-13 18:15:25\n"
     ]
    }
   ],
   "source": [
    "\n",
    "dataFolder= \"./output/data/\"\n",
    "modelDataDirectories = next(walk(dataFolder))[1]\n",
    "\n",
    "model = modelDataDirectories[0]\n",
    "\n",
    "#loading data\n",
    "print(\"Started @ \"+ strftime(\"%Y-%m-%d %H:%M:%S\", gmtime()))\n",
    "start = time.time()\n",
    "df_train = pd.read_csv(\"./output/data/\"+model+\"/training.csv\")\n",
    "df_test = pd.read_csv(\"./output/data/\"+model+\"/testing.csv\")\n",
    "\n"
   ]
  },
  {
   "cell_type": "code",
   "execution_count": 29,
   "metadata": {
    "ExecuteTime": {
     "end_time": "2018-02-13T18:15:55.398583Z",
     "start_time": "2018-02-13T18:15:55.374739Z"
    }
   },
   "outputs": [
    {
     "data": {
      "text/plain": [
       "0"
      ]
     },
     "execution_count": 29,
     "metadata": {},
     "output_type": "execute_result"
    }
   ],
   "source": [
    "df_train = df_train.dropna()  \n",
    "df_train.isnull().sum().sum()\n",
    "\n",
    "df_test = df_test.dropna()  \n",
    "df_test.isnull().sum().sum()"
   ]
  },
  {
   "cell_type": "code",
   "execution_count": 17,
   "metadata": {
    "ExecuteTime": {
     "end_time": "2018-02-13T18:14:16.988813Z",
     "start_time": "2018-02-13T18:14:16.966109Z"
    }
   },
   "outputs": [],
   "source": [
    "#Training data wrangle\n",
    "x_train_AGE = np.asarray(df_train.iloc[:, 1], np.float32)\n",
    "x_train_EDUCA = to_categorical(df_train.iloc[:, 2])\n",
    "label_encoder = LabelEncoder()\n",
    "integer_encoded_SEX = label_encoder.fit_transform(df_train.iloc[:, 3])\n",
    "x_train_SEX = to_categorical(integer_encoded_SEX)\n",
    "x_train_STATE = to_categorical(df_train.iloc[:, 4])\n",
    "x_train_INCLASS = to_categorical(df_train.iloc[:, 5])\n",
    "x_train_topics = np.asarray(df_train.iloc[:, 6:], np.float32)\n"
   ]
  },
  {
   "cell_type": "code",
   "execution_count": 6,
   "metadata": {
    "ExecuteTime": {
     "end_time": "2018-02-13T18:11:25.724168Z",
     "start_time": "2018-02-13T18:11:25.702556Z"
    }
   },
   "outputs": [],
   "source": [
    "#Testing data wrangle\n",
    "x_test_AGE = np.asarray(df_test.iloc[:, 1], np.float32)\n",
    "x_test_EDUCA = to_categorical(df_test.iloc[:, 2])\n",
    "label_encoder = LabelEncoder()\n",
    "integer_encoded_SEX = label_encoder.fit_transform(df_test.iloc[:, 3])\n",
    "x_test_SEX = to_categorical(integer_encoded_SEX)\n",
    "x_test_STATE = to_categorical(df_test.iloc[:, 4])\n",
    "x_test_INCLASS = to_categorical(df_test.iloc[:, 5])\n",
    "x_test_topics = np.asarray(df_test.iloc[:, 6:], np.float32)"
   ]
  },
  {
   "cell_type": "code",
   "execution_count": 7,
   "metadata": {
    "ExecuteTime": {
     "end_time": "2018-02-13T18:11:26.306678Z",
     "start_time": "2018-02-13T18:11:26.236124Z"
    }
   },
   "outputs": [
    {
     "name": "stdout",
     "output_type": "stream",
     "text": [
      "loaded data\n",
      "1.6280879974365234\n"
     ]
    }
   ],
   "source": [
    "\n",
    "y_train = df_train.iloc[:, 0]\n",
    "y_train = to_categorical(y_train, 2)\n",
    "\n",
    "y_test = np.asarray(df_test.iloc[:, 0], np.float32)\n",
    "\n",
    "#cbinding all the wrangled columns\n",
    "x_test = np.column_stack((x_test_AGE,x_test_EDUCA, x_test_SEX, x_test_STATE, x_test_INCLASS, x_test_topics))\n",
    "x_train = np.column_stack((x_train_AGE,x_train_EDUCA, x_train_SEX, x_train_STATE, x_train_INCLASS, x_train_topics))\n",
    "x_train = np.column_stack((x_train_AGE))#,x_train_EDUCA, x_train_SEX, x_train_STATE, x_train_INCLASS, x_train_topics))\n",
    "\n",
    "print(\"loaded data\")\n",
    "print(time.time() - start)"
   ]
  },
  {
   "cell_type": "code",
   "execution_count": 10,
   "metadata": {
    "ExecuteTime": {
     "end_time": "2018-02-13T18:12:15.098494Z",
     "start_time": "2018-02-13T18:12:14.965358Z"
    }
   },
   "outputs": [
    {
     "ename": "AttributeError",
     "evalue": "'numpy.ndarray' object has no attribute 'isnull'",
     "output_type": "error",
     "traceback": [
      "\u001b[0;31m---------------------------------------------------------------------------\u001b[0m",
      "\u001b[0;31mAttributeError\u001b[0m                            Traceback (most recent call last)",
      "\u001b[0;32m<ipython-input-10-22a034359dee>\u001b[0m in \u001b[0;36m<module>\u001b[0;34m()\u001b[0m\n\u001b[0;32m----> 1\u001b[0;31m \u001b[0mx_train\u001b[0m\u001b[0;34m.\u001b[0m\u001b[0misnull\u001b[0m\u001b[0;34m(\u001b[0m\u001b[0;34m)\u001b[0m\u001b[0;34m.\u001b[0m\u001b[0mvalues\u001b[0m\u001b[0;34m.\u001b[0m\u001b[0many\u001b[0m\u001b[0;34m(\u001b[0m\u001b[0;34m)\u001b[0m\u001b[0;34m\u001b[0m\u001b[0m\n\u001b[0m",
      "\u001b[0;31mAttributeError\u001b[0m: 'numpy.ndarray' object has no attribute 'isnull'"
     ]
    }
   ],
   "source": [
    "x_train.isnull().values.any()"
   ]
  },
  {
   "cell_type": "code",
   "execution_count": 8,
   "metadata": {
    "ExecuteTime": {
     "end_time": "2018-02-13T18:11:27.749219Z",
     "start_time": "2018-02-13T18:11:27.731835Z"
    }
   },
   "outputs": [
    {
     "name": "stdout",
     "output_type": "stream",
     "text": [
      "VARIABLES 12652\n",
      "TRAINING_ROWS 1\n"
     ]
    }
   ],
   "source": [
    "\n",
    "#set constants\n",
    "\n",
    "VARIABLES = x_train.shape[1]\n",
    "TRAINING_ROWS = x_train.shape[0]\n",
    "DROPOUT_VALUE = 0.1\n",
    "HIDDEN_LAYER1 = 2\n",
    "EPOCS = 10\n",
    "BATCH_SIZE = int(TRAINING_ROWS*0.005)\n",
    "VALIDATION_SPLIT = 0.1\n",
    "ACTIVATION_FUNCTION = \"sigmoid\"\n",
    "\n",
    "print(\"VARIABLES {}\".format(VARIABLES))\n",
    "print(\"TRAINING_ROWS {}\".format(TRAINING_ROWS))\n",
    "\n",
    "#LOG_DIR_STR = './runs/{}_run_1l_{}__2l_{}__do_{}__batch_{}__val_{}__epochs_{}__activationFunction_{}'.format(model, HIDDEN_LAYER1, HIDDEN_LAYER2, str(DROPOUT_VALUE).replace(\".\",\"\"), BATCH_SIZE, str(VALIDATION_SPLIT).replace(\".\",\"\"), EPOCS, ACTIVATION_FUNCTION)\n",
    "#print(\"Writing tensorboard to {}\".format(LOG_DIR_STR))\n",
    "\n",
    "#tbCallBack = TensorBoard(log_dir=LOG_DIR_STR, write_graph=False, write_images=False)\n"
   ]
  },
  {
   "cell_type": "code",
   "execution_count": 9,
   "metadata": {
    "ExecuteTime": {
     "end_time": "2018-02-13T18:09:50.147956Z",
     "start_time": "2018-02-13T18:09:50.067388Z"
    }
   },
   "outputs": [],
   "source": [
    "\n",
    "model = Sequential()\n",
    "model.add(Dense(HIDDEN_LAYER1, input_shape=(VARIABLES,)))\n",
    "model.add(Dense(units=1, activation=ACTIVATION_FUNCTION))\n"
   ]
  },
  {
   "cell_type": "code",
   "execution_count": 10,
   "metadata": {
    "ExecuteTime": {
     "end_time": "2018-02-13T18:09:55.088963Z",
     "start_time": "2018-02-13T18:09:50.771705Z"
    }
   },
   "outputs": [
    {
     "name": "stdout",
     "output_type": "stream",
     "text": [
      "_________________________________________________________________\n",
      "Layer (type)                 Output Shape              Param #   \n",
      "=================================================================\n",
      "dense_1 (Dense)              (None, 2)                 166       \n",
      "_________________________________________________________________\n",
      "dense_2 (Dense)              (None, 1)                 3         \n",
      "=================================================================\n",
      "Total params: 169\n",
      "Trainable params: 169\n",
      "Non-trainable params: 0\n",
      "_________________________________________________________________\n",
      "None\n",
      "[<keras.layers.core.Dense object at 0x1a18d53be0>, <keras.layers.core.Dense object at 0x1a18d495f8>]\n",
      "Epoch 1/10\n",
      "12652/12652 [==============================] - 1s 57us/step - loss: nan - acc: 0.0027\n",
      "Epoch 2/10\n",
      "12652/12652 [==============================] - 0s 25us/step - loss: nan - acc: 0.0000e+00\n",
      "Epoch 3/10\n",
      "12652/12652 [==============================] - 0s 26us/step - loss: nan - acc: 0.0000e+00\n",
      "Epoch 4/10\n",
      "12652/12652 [==============================] - 0s 24us/step - loss: nan - acc: 0.0000e+00\n",
      "Epoch 5/10\n",
      "12652/12652 [==============================] - 0s 23us/step - loss: nan - acc: 0.0000e+00\n",
      "Epoch 6/10\n",
      "12652/12652 [==============================] - 0s 23us/step - loss: nan - acc: 0.0000e+00\n",
      "Epoch 7/10\n",
      "12652/12652 [==============================] - 0s 24us/step - loss: nan - acc: 0.0000e+00\n",
      "Epoch 8/10\n",
      "12652/12652 [==============================] - 0s 23us/step - loss: nan - acc: 0.0000e+00\n",
      "Epoch 9/10\n",
      "12652/12652 [==============================] - 0s 31us/step - loss: nan - acc: 0.0000e+00\n",
      "Epoch 10/10\n",
      "12652/12652 [==============================] - 0s 24us/step - loss: nan - acc: 0.0000e+00\n",
      "5420/5420 [==============================] - 0s 10us/step\n",
      "[nan, 0.0]\n"
     ]
    }
   ],
   "source": [
    "\n",
    "#sgd = optimizers.SGD(lr=0.01)\n",
    "\n",
    "model.compile(loss='binary_crossentropy',\n",
    "              optimizer='adam',\n",
    "              metrics=['accuracy'])\n",
    "\n",
    "#view how many parameters we have to estimate, \n",
    "#this is \n",
    "print(model.summary())\n",
    "print(model.layers)\n",
    "\n",
    "# x_train and y_train are Numpy arrays --just like in the Scikit-Learn API.\n",
    "#model.fit(x_train, y_train, epochs=EPOCS, batch_size=BATCH_SIZE, callbacks=[tbCallBack],validation_split=VALIDATION_SPLIT)\n",
    "model.fit(x_train, y_train, epochs=EPOCS, batch_size=BATCH_SIZE)\n",
    "\n",
    "loss_and_metrics = model.evaluate(x_test, y_test, batch_size=128)\n",
    "\n",
    "print(loss_and_metrics)"
   ]
  },
  {
   "cell_type": "code",
   "execution_count": null,
   "metadata": {},
   "outputs": [],
   "source": []
  }
 ],
 "metadata": {
  "kernelspec": {
   "display_name": "Python 3",
   "language": "python",
   "name": "python3"
  },
  "language_info": {
   "codemirror_mode": {
    "name": "ipython",
    "version": 3
   },
   "file_extension": ".py",
   "mimetype": "text/x-python",
   "name": "python",
   "nbconvert_exporter": "python",
   "pygments_lexer": "ipython3",
   "version": "3.5.4"
  },
  "latex_envs": {
   "LaTeX_envs_menu_present": true,
   "autoclose": false,
   "autocomplete": true,
   "bibliofile": "biblio.bib",
   "cite_by": "apalike",
   "current_citInitial": 1,
   "eqLabelWithNumbers": true,
   "eqNumInitial": 1,
   "hotkeys": {
    "equation": "Ctrl-E",
    "itemize": "Ctrl-I"
   },
   "labels_anchors": false,
   "latex_user_defs": false,
   "report_style_numbering": false,
   "user_envs_cfg": false
  },
  "toc": {
   "nav_menu": {},
   "number_sections": false,
   "sideBar": true,
   "skip_h1_title": false,
   "title_cell": "Table of Contents",
   "title_sidebar": "Contents",
   "toc_cell": true,
   "toc_position": {},
   "toc_section_display": true,
   "toc_window_display": false
  },
  "varInspector": {
   "cols": {
    "lenName": 16,
    "lenType": 16,
    "lenVar": 40
   },
   "kernels_config": {
    "python": {
     "delete_cmd_postfix": "",
     "delete_cmd_prefix": "del ",
     "library": "var_list.py",
     "varRefreshCmd": "print(var_dic_list())"
    },
    "r": {
     "delete_cmd_postfix": ") ",
     "delete_cmd_prefix": "rm(",
     "library": "var_list.r",
     "varRefreshCmd": "cat(var_dic_list()) "
    }
   },
   "types_to_exclude": [
    "module",
    "function",
    "builtin_function_or_method",
    "instance",
    "_Feature"
   ],
   "window_display": false
  }
 },
 "nbformat": 4,
 "nbformat_minor": 2
}
